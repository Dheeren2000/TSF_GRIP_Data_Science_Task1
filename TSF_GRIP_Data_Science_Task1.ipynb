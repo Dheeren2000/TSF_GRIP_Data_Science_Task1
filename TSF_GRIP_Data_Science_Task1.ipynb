{
  "nbformat": 4,
  "nbformat_minor": 0,
  "metadata": {
    "colab": {
      "name": "TSF_GRIP_Data_Science_Task1.ipynb",
      "provenance": []
    },
    "kernelspec": {
      "name": "python3",
      "display_name": "Python 3"
    },
    "language_info": {
      "name": "python"
    }
  },
  "cells": [
    {
      "cell_type": "markdown",
      "metadata": {
        "id": "KXlqdYpEf4XD"
      },
      "source": [
        "# **TSF GRIP Task 1 : Prediction using Supervised ML**\n",
        "\n",
        "### Problem Statement : To Predict the percentage of marks of the students based on the number of hours they studied\n",
        "\n",
        "### Author: Dheeren Chirmade"
      ]
    },
    {
      "cell_type": "code",
      "metadata": {
        "id": "blN2x7wWpOV_"
      },
      "source": [
        "# importing the required libraries\n",
        "import pandas as pd\n",
        "import numpy as np\n",
        "import matplotlib.pyplot as plt \n",
        "import seaborn as sns\n",
        "from sklearn.model_selection import train_test_split\n",
        "from sklearn.linear_model import LinearRegression\n",
        "from sklearn.metrics import mean_absolute_error"
      ],
      "execution_count": 1,
      "outputs": []
    },
    {
      "cell_type": "code",
      "metadata": {
        "colab": {
          "base_uri": "https://localhost:8080/",
          "height": 204
        },
        "id": "MNFcwUv6dnix",
        "outputId": "224f1c89-d848-4378-9a1c-886d98fd18be"
      },
      "source": [
        "# reading the data from the dataset\n",
        "data = pd.read_csv(\"https://raw.githubusercontent.com/AdiPersonalWorks/Random/master/student_scores%20-%20student_scores.csv\")\n",
        "data.head()"
      ],
      "execution_count": 2,
      "outputs": [
        {
          "output_type": "execute_result",
          "data": {
            "text/html": [
              "<div>\n",
              "<style scoped>\n",
              "    .dataframe tbody tr th:only-of-type {\n",
              "        vertical-align: middle;\n",
              "    }\n",
              "\n",
              "    .dataframe tbody tr th {\n",
              "        vertical-align: top;\n",
              "    }\n",
              "\n",
              "    .dataframe thead th {\n",
              "        text-align: right;\n",
              "    }\n",
              "</style>\n",
              "<table border=\"1\" class=\"dataframe\">\n",
              "  <thead>\n",
              "    <tr style=\"text-align: right;\">\n",
              "      <th></th>\n",
              "      <th>Hours</th>\n",
              "      <th>Scores</th>\n",
              "    </tr>\n",
              "  </thead>\n",
              "  <tbody>\n",
              "    <tr>\n",
              "      <th>0</th>\n",
              "      <td>2.5</td>\n",
              "      <td>21</td>\n",
              "    </tr>\n",
              "    <tr>\n",
              "      <th>1</th>\n",
              "      <td>5.1</td>\n",
              "      <td>47</td>\n",
              "    </tr>\n",
              "    <tr>\n",
              "      <th>2</th>\n",
              "      <td>3.2</td>\n",
              "      <td>27</td>\n",
              "    </tr>\n",
              "    <tr>\n",
              "      <th>3</th>\n",
              "      <td>8.5</td>\n",
              "      <td>75</td>\n",
              "    </tr>\n",
              "    <tr>\n",
              "      <th>4</th>\n",
              "      <td>3.5</td>\n",
              "      <td>30</td>\n",
              "    </tr>\n",
              "  </tbody>\n",
              "</table>\n",
              "</div>"
            ],
            "text/plain": [
              "   Hours  Scores\n",
              "0    2.5      21\n",
              "1    5.1      47\n",
              "2    3.2      27\n",
              "3    8.5      75\n",
              "4    3.5      30"
            ]
          },
          "metadata": {
            "tags": []
          },
          "execution_count": 2
        }
      ]
    },
    {
      "cell_type": "code",
      "metadata": {
        "colab": {
          "base_uri": "https://localhost:8080/"
        },
        "id": "NO9dFPu-eOpA",
        "outputId": "e74a2160-679c-40ea-de69-830985ee3151"
      },
      "source": [
        "# checking data types of each column\n",
        "data.dtypes"
      ],
      "execution_count": 5,
      "outputs": [
        {
          "output_type": "execute_result",
          "data": {
            "text/plain": [
              "Hours     float64\n",
              "Scores      int64\n",
              "dtype: object"
            ]
          },
          "metadata": {
            "tags": []
          },
          "execution_count": 5
        }
      ]
    },
    {
      "cell_type": "code",
      "metadata": {
        "colab": {
          "base_uri": "https://localhost:8080/"
        },
        "id": "nTcTi_L2ekU6",
        "outputId": "5795c69a-9054-4f13-b020-fc8f7df50507"
      },
      "source": [
        "# checking if there is any null value in the dataset\n",
        "data.isnull == True"
      ],
      "execution_count": 6,
      "outputs": [
        {
          "output_type": "execute_result",
          "data": {
            "text/plain": [
              "False"
            ]
          },
          "metadata": {
            "tags": []
          },
          "execution_count": 6
        }
      ]
    },
    {
      "cell_type": "markdown",
      "metadata": {
        "id": "BfGe61ete94I"
      },
      "source": [
        "False means there is no null value in the dataset, so now we can visualize the data"
      ]
    },
    {
      "cell_type": "markdown",
      "metadata": {
        "id": "sx3tmF2Gfd1E"
      },
      "source": [
        "## **Visual Representation for Relationship Between No.of Hours Studied and Score Achieved**"
      ]
    },
    {
      "cell_type": "code",
      "metadata": {
        "colab": {
          "base_uri": "https://localhost:8080/",
          "height": 305
        },
        "id": "ywDW-U3Agd31",
        "outputId": "81505753-8371-440e-b84d-fd7d5a767751"
      },
      "source": [
        "# creating the scatterplot for given data\n",
        "sns.scatterplot(y= data['Scores'], x= data['Hours'])\n",
        "\n",
        "# labelling the scatterplot \n",
        "plt.title('Marks Vs Study Hours',size=20)\n",
        "plt.ylabel('Marks Percentage', size=15)\n",
        "plt.xlabel('Hours Studied', size=15)\n",
        "plt.show()"
      ],
      "execution_count": 9,
      "outputs": [
        {
          "output_type": "display_data",
          "data": {
            "image/png": "[encoded data removed]",
            "text/plain": [
              "<Figure size 432x288 with 1 Axes>"
            ]
          },
          "metadata": {
            "tags": [],
            "needs_background": "light"
          }
        }
      ]
    },
    {
      "cell_type": "markdown",
      "metadata": {
        "id": "gmaQwD-Fi_WH"
      },
      "source": [
        "This scatter plot shows positive correlation between Marks and Study Hours"
      ]
    },
    {
      "cell_type": "markdown",
      "metadata": {
        "id": "b3V7cbZMjOO5"
      },
      "source": [
        "### **Creating Linear Regression Model**"
      ]
    },
    {
      "cell_type": "code",
      "metadata": {
        "id": "C8VL4zKejkaU"
      },
      "source": [
        "# importing libraries for regression model\n",
        "from sklearn.model_selection import train_test_split\n",
        "from sklearn.linear_model import LinearRegression\n",
        "from sklearn.metrics import r2_score, mean_squared_error, mean_absolute_error"
      ],
      "execution_count": 10,
      "outputs": []
    },
    {
      "cell_type": "code",
      "metadata": {
        "id": "2XnCVNKqlKue"
      },
      "source": [
        "# defining features and target from data\n",
        "features = data.Hours.values.reshape(len(data.Hours),1)\n",
        "target = data.Scores.values.reshape(len(data.Scores),1)"
      ],
      "execution_count": 11,
      "outputs": []
    },
    {
      "cell_type": "code",
      "metadata": {
        "id": "0FM-yD3OlsjE"
      },
      "source": [
        "# splitting dataset in training and testing sets\n",
        "Xtrain, Xtest, ytrain, ytest = train_test_split(features, target, random_state = 0) "
      ],
      "execution_count": 12,
      "outputs": []
    },
    {
      "cell_type": "code",
      "metadata": {
        "id": "fYsn11pUl8DX"
      },
      "source": [
        "# fitting data into the Linear Regression Model\n",
        "regressor = LinearRegression().fit(Xtrain, ytrain)"
      ],
      "execution_count": 13,
      "outputs": []
    },
    {
      "cell_type": "markdown",
      "metadata": {
        "id": "yqAD1-P8mrKg"
      },
      "source": [
        "### **Visual Representation of the Regression Model**"
      ]
    },
    {
      "cell_type": "code",
      "metadata": {
        "colab": {
          "base_uri": "https://localhost:8080/",
          "height": 356
        },
        "id": "0WVgyiXynNC_",
        "outputId": "3926d09e-3242-42df-df2e-0a3b1fda36d3"
      },
      "source": [
        "# creating the regression plot of the model\n",
        "sns.regplot(x=Xtrain.reshape(-1), y=ytrain.reshape(-1))\n",
        "\n",
        "# labelling the regression plot\n",
        "plt.title('Regression Plot',size=20)\n",
        "plt.ylabel('Marks Percentage', size=15)\n",
        "plt.xlabel('Hours Stuit Linedied', size=15)\n",
        "plt.show()\n",
        "\n",
        "# printing the pairwise correlation of the all the columns\n",
        "print(data.corr())"
      ],
      "execution_count": 25,
      "outputs": [
        {
          "output_type": "display_data",
          "data": {
            "image/png": "[encoded data removed]",
            "text/plain": [
              "<Figure size 432x288 with 1 Axes>"
            ]
          },
          "metadata": {
            "tags": [],
            "needs_background": "light"
          }
        },
        {
          "output_type": "stream",
          "text": [
            "           Hours    Scores\n",
            "Hours   1.000000  0.976191\n",
            "Scores  0.976191  1.000000\n"
          ],
          "name": "stdout"
        }
      ]
    },
    {
      "cell_type": "markdown",
      "metadata": {
        "id": "Sn0msrfZoLWp"
      },
      "source": [
        "### **Testing the model**"
      ]
    },
    {
      "cell_type": "code",
      "metadata": {
        "id": "b4FCTZacotMF"
      },
      "source": [
        "val_predict = regressor.predict(Xtest)"
      ],
      "execution_count": 15,
      "outputs": []
    },
    {
      "cell_type": "markdown",
      "metadata": {
        "id": "Q3-KuXTcoxGh"
      },
      "source": [
        "**Visual Representation for Actual score vs Predicted score by Model¶**"
      ]
    },
    {
      "cell_type": "code",
      "metadata": {
        "colab": {
          "base_uri": "https://localhost:8080/",
          "height": 300
        },
        "id": "UVNjRPV-o4Ke",
        "outputId": "e916022f-5cfb-474a-8384-e4475194604e"
      },
      "source": [
        "# best fit line representation\n",
        "sns.lineplot(x = Xtest.reshape(-1), y = val_predict.reshape(-1), linewidth=2, label='Best Fit Line')\n",
        "\n",
        "# actual score representation\n",
        "predict_plot = sns.scatterplot(x = Xtest.reshape(-1), y = ytest.reshape(-1), color='green', label='Actual Scores', s=50)\n",
        "\n",
        "# predicted score representation\n",
        "sns.scatterplot(x=Xtest.reshape(-1), y= val_predict.reshape(-1), color='red', label='Predicted Scores', s=50)\n",
        "\n",
        "# labelling the chart\n",
        "predict_plot.set_title('Actual Scores vs Predicted Scores for Test Data', fontsize=16)\n",
        "predict_plot.set_xlabel('No.of Hours Studied', fontsize=13)\n",
        "predict_plot.set_ylabel('Scores', fontsize=13)\n",
        "plt.show()"
      ],
      "execution_count": 16,
      "outputs": [
        {
          "output_type": "display_data",
          "data": {
            "image/png": "[encoded data removed]",
            "text/plain": [
              "<Figure size 432x288 with 1 Axes>"
            ]
          },
          "metadata": {
            "tags": [],
            "needs_background": "light"
          }
        }
      ]
    },
    {
      "cell_type": "markdown",
      "metadata": {
        "id": "2WW8ob_CppBE"
      },
      "source": [
        "### **Evaluating the Model**"
      ]
    },
    {
      "cell_type": "code",
      "metadata": {
        "colab": {
          "base_uri": "https://localhost:8080/"
        },
        "id": "krfhPkbJpwmK",
        "outputId": "12d17247-8e77-42de-f7cb-6ecb5c741cb6"
      },
      "source": [
        "# Calculating the accuracy of the model\n",
        "print('Mean absolute error: ',mean_absolute_error(val_predict, ytest))"
      ],
      "execution_count": 18,
      "outputs": [
        {
          "output_type": "stream",
          "text": [
            "Mean absolute error:  4.130879918502482\n"
          ],
          "name": "stdout"
        }
      ]
    },
    {
      "cell_type": "markdown",
      "metadata": {
        "id": "yrZ3--n7qhUL"
      },
      "source": [
        "**Small value of Mean absolute error states that the chances of error or wrong forecasting through the model are very less.**"
      ]
    },
    {
      "cell_type": "markdown",
      "metadata": {
        "id": "rLVtMjuEqlIg"
      },
      "source": [
        "### **What will be predicted score if a student studies for 9.25 hrs/ day?**"
      ]
    },
    {
      "cell_type": "code",
      "metadata": {
        "colab": {
          "base_uri": "https://localhost:8080/"
        },
        "id": "mGIc9zYxrSJa",
        "outputId": "6a55136a-0bff-46f2-e11f-df61e8eb31cc"
      },
      "source": [
        "hour = [[9.25]]\n",
        "score_predict = regressor.predict(hour)\n",
        "print(\"Score : {}\".format(int(round(score_predict[0][0]))) + \" hours\")"
      ],
      "execution_count": 24,
      "outputs": [
        {
          "output_type": "stream",
          "text": [
            "Score : 94 hours\n"
          ],
          "name": "stdout"
        }
      ]
    }
  ]
}